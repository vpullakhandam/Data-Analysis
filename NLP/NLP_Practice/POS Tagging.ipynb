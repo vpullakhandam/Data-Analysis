{
 "cells": [
  {
   "cell_type": "markdown",
   "id": "ba0c7531",
   "metadata": {},
   "source": [
    "## POS Tagging"
   ]
  },
  {
   "cell_type": "code",
   "execution_count": 20,
   "id": "a15672cf",
   "metadata": {},
   "outputs": [],
   "source": [
    "paragraph=\"\"\"The quick brown fox jumps over the lazy dog near the riverbank. It was a sunny day, and the breeze felt refreshing. People were walking, talking, and enjoying the beautiful weather by the water.\"\"\""
   ]
  },
  {
   "cell_type": "code",
   "execution_count": 21,
   "id": "f7653a39",
   "metadata": {},
   "outputs": [
    {
     "name": "stdout",
     "output_type": "stream",
     "text": [
      "['The quick brown fox jumps over the lazy dog near the riverbank.', 'It was a sunny day, and the breeze felt refreshing.', 'People were walking, talking, and enjoying the beautiful weather by the water.']\n"
     ]
    }
   ],
   "source": [
    "import nltk\n",
    "sentences=nltk.sent_tokenize(paragraph)\n",
    "print(sentences)"
   ]
  },
  {
   "cell_type": "code",
   "execution_count": 22,
   "id": "bb51d085",
   "metadata": {},
   "outputs": [
    {
     "name": "stderr",
     "output_type": "stream",
     "text": [
      "[nltk_data] Downloading package averaged_perceptron_tagger to\n",
      "[nltk_data]     /Users/vaishnavipullakhandam/nltk_data...\n",
      "[nltk_data]   Package averaged_perceptron_tagger is already up-to-\n",
      "[nltk_data]       date!\n"
     ]
    },
    {
     "data": {
      "text/plain": [
       "True"
      ]
     },
     "execution_count": 22,
     "metadata": {},
     "output_type": "execute_result"
    }
   ],
   "source": [
    "import nltk\n",
    "nltk.download('averaged_perceptron_tagger')"
   ]
  },
  {
   "cell_type": "code",
   "execution_count": 23,
   "id": "7054ba0b",
   "metadata": {},
   "outputs": [],
   "source": [
    "## We will find out the POS tag"
   ]
  },
  {
   "cell_type": "code",
   "execution_count": 24,
   "id": "d67a346f",
   "metadata": {},
   "outputs": [],
   "source": [
    "## First we remove the stop words\n",
    "from nltk.corpus import stopwords\n",
    "\n"
   ]
  },
  {
   "cell_type": "code",
   "execution_count": 25,
   "id": "33114dd7",
   "metadata": {},
   "outputs": [
    {
     "name": "stdout",
     "output_type": "stream",
     "text": [
      "[('The', 'DT'), ('quick', 'JJ'), ('brown', 'NN'), ('fox', 'NN'), ('jumps', 'NNS'), ('lazy', 'JJ'), ('dog', 'NN'), ('near', 'IN'), ('riverbank', 'NN'), ('.', '.')]\n",
      "[('It', 'PRP'), ('sunny', 'JJ'), ('day', 'NN'), (',', ','), ('breeze', 'NN'), ('felt', 'VBD'), ('refreshing', 'NN'), ('.', '.')]\n",
      "[('People', 'NNS'), ('walking', 'VBG'), (',', ','), ('talking', 'VBG'), (',', ','), ('enjoying', 'VBG'), ('beautiful', 'JJ'), ('weather', 'NN'), ('water', 'NN'), ('.', '.')]\n"
     ]
    }
   ],
   "source": [
    "for i in range(len(sentences)):\n",
    "    words=nltk.word_tokenize(sentences[i])\n",
    "    words=[word for word in words if word not in set(stopwords.words(\"english\"))]\n",
    "    pos_tag=nltk.pos_tag(words)\n",
    "    print(pos_tag)"
   ]
  },
  {
   "cell_type": "code",
   "execution_count": 33,
   "id": "c49d48ec",
   "metadata": {},
   "outputs": [],
   "source": [
    "paragraph=\"Taj Mahal is a beautiful Monument\".split()"
   ]
  },
  {
   "cell_type": "code",
   "execution_count": 34,
   "id": "4edfe62d",
   "metadata": {},
   "outputs": [
    {
     "data": {
      "text/plain": [
       "['Taj', 'Mahal', 'is', 'a', 'beautiful', 'Monument']"
      ]
     },
     "execution_count": 34,
     "metadata": {},
     "output_type": "execute_result"
    }
   ],
   "source": [
    "paragraph"
   ]
  },
  {
   "cell_type": "code",
   "execution_count": 36,
   "id": "4e77f7d5",
   "metadata": {},
   "outputs": [
    {
     "data": {
      "text/plain": [
       "[('Taj', 'NNP'),\n",
       " ('Mahal', 'NNP'),\n",
       " ('is', 'VBZ'),\n",
       " ('a', 'DT'),\n",
       " ('beautiful', 'JJ'),\n",
       " ('Monument', 'NN')]"
      ]
     },
     "execution_count": 36,
     "metadata": {},
     "output_type": "execute_result"
    }
   ],
   "source": [
    "nltk.pos_tag(paragraph)"
   ]
  },
  {
   "cell_type": "markdown",
   "id": "7ef9f5e8",
   "metadata": {},
   "source": [
    "## For POS Tag we use the the entire list of words and not a singular word"
   ]
  },
  {
   "cell_type": "code",
   "execution_count": null,
   "id": "127e49ad",
   "metadata": {},
   "outputs": [],
   "source": []
  }
 ],
 "metadata": {
  "kernelspec": {
   "display_name": "Python 3 (ipykernel)",
   "language": "python",
   "name": "python3"
  },
  "language_info": {
   "codemirror_mode": {
    "name": "ipython",
    "version": 3
   },
   "file_extension": ".py",
   "mimetype": "text/x-python",
   "name": "python",
   "nbconvert_exporter": "python",
   "pygments_lexer": "ipython3",
   "version": "3.10.9"
  }
 },
 "nbformat": 4,
 "nbformat_minor": 5
}
