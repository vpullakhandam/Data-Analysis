{
 "cells": [
  {
   "cell_type": "markdown",
   "id": "382e2484",
   "metadata": {},
   "source": [
    "## Stemming\n",
    "\n",
    "Stemming is the process of reducing a word to its stem/root after removing the suffix and prefix. "
   ]
  },
  {
   "cell_type": "code",
   "execution_count": 1,
   "id": "f533560a",
   "metadata": {},
   "outputs": [],
   "source": [
    "words=[\"writing\",\"reading\",\"history\",\"eating\",\"eaten\",\"eats\",\"writes\"]"
   ]
  },
  {
   "cell_type": "markdown",
   "id": "94ec611c",
   "metadata": {},
   "source": [
    "## PorterStemmer"
   ]
  },
  {
   "cell_type": "code",
   "execution_count": 2,
   "id": "4a148cbb",
   "metadata": {},
   "outputs": [],
   "source": [
    "from nltk.stem import PorterStemmer"
   ]
  },
  {
   "cell_type": "code",
   "execution_count": 3,
   "id": "4c7fed3e",
   "metadata": {},
   "outputs": [],
   "source": [
    "stemming=PorterStemmer()"
   ]
  },
  {
   "cell_type": "code",
   "execution_count": 4,
   "id": "46710365",
   "metadata": {},
   "outputs": [
    {
     "name": "stdout",
     "output_type": "stream",
     "text": [
      "writing--->write\n",
      "reading--->read\n",
      "history--->histori\n",
      "eating--->eat\n",
      "eaten--->eaten\n",
      "eats--->eat\n",
      "writes--->write\n"
     ]
    }
   ],
   "source": [
    "for word in words:\n",
    "    print(word+\"--->\"+stemming.stem(word))"
   ]
  },
  {
   "cell_type": "markdown",
   "id": "e4691636",
   "metadata": {},
   "source": [
    "## RegexpStemmerClass \n",
    "\n",
    "class with which we can implement regular expression stemmer algorithms. it uses regex to remove an prefix or suffix "
   ]
  },
  {
   "cell_type": "code",
   "execution_count": 8,
   "id": "0ff86dc4",
   "metadata": {},
   "outputs": [],
   "source": [
    "from nltk.stem import RegexpStemmer"
   ]
  },
  {
   "cell_type": "code",
   "execution_count": 10,
   "id": "457e3e97",
   "metadata": {},
   "outputs": [],
   "source": [
    "reg_stemmer=RegexpStemmer('ing$|s$|e$|able$', min=4)"
   ]
  },
  {
   "cell_type": "code",
   "execution_count": 12,
   "id": "dc55c225",
   "metadata": {},
   "outputs": [
    {
     "data": {
      "text/plain": [
       "'eat'"
      ]
     },
     "execution_count": 12,
     "metadata": {},
     "output_type": "execute_result"
    }
   ],
   "source": [
    "reg_stemmer.stem('eating')"
   ]
  },
  {
   "cell_type": "code",
   "execution_count": 13,
   "id": "272179da",
   "metadata": {},
   "outputs": [
    {
     "data": {
      "text/plain": [
       "'ingeat'"
      ]
     },
     "execution_count": 13,
     "metadata": {},
     "output_type": "execute_result"
    }
   ],
   "source": [
    "reg_stemmer.stem('ingeating')"
   ]
  },
  {
   "cell_type": "markdown",
   "id": "e10141aa",
   "metadata": {},
   "source": [
    "## Snowball Stemmer\n",
    "\n",
    "better than porterstemmer"
   ]
  },
  {
   "cell_type": "code",
   "execution_count": 17,
   "id": "ecd4a7ff",
   "metadata": {},
   "outputs": [],
   "source": [
    "from nltk.stem import SnowballStemmer\n",
    "snowballstemmer=SnowballStemmer(\"english\")"
   ]
  },
  {
   "cell_type": "code",
   "execution_count": 20,
   "id": "2dd69a74",
   "metadata": {},
   "outputs": [
    {
     "name": "stdout",
     "output_type": "stream",
     "text": [
      "writing--->write\n",
      "reading--->read\n",
      "history--->histori\n",
      "eating--->eat\n",
      "eaten--->eaten\n",
      "eats--->eat\n",
      "writes--->write\n"
     ]
    }
   ],
   "source": [
    "for word in words:\n",
    "    print(word+\"--->\"+snowballstemmer.stem(word))"
   ]
  },
  {
   "cell_type": "markdown",
   "id": "74bae8c1",
   "metadata": {},
   "source": [
    "works better with some words like fairy, sportingly"
   ]
  },
  {
   "cell_type": "code",
   "execution_count": null,
   "id": "5df44cf2",
   "metadata": {},
   "outputs": [],
   "source": []
  }
 ],
 "metadata": {
  "kernelspec": {
   "display_name": "Python 3 (ipykernel)",
   "language": "python",
   "name": "python3"
  },
  "language_info": {
   "codemirror_mode": {
    "name": "ipython",
    "version": 3
   },
   "file_extension": ".py",
   "mimetype": "text/x-python",
   "name": "python",
   "nbconvert_exporter": "python",
   "pygments_lexer": "ipython3",
   "version": "3.10.9"
  }
 },
 "nbformat": 4,
 "nbformat_minor": 5
}
