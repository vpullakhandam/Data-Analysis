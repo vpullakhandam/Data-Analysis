{
 "cells": [
  {
   "attachments": {},
   "cell_type": "markdown",
   "metadata": {},
   "source": [
    "### Image Annotation using LabelImg\n",
    "<b>Objective:</b>\n",
    "To annotate a publicly available image dataset (e.g., COCO or Pascal VOC) using LabelImg for object detection tasks.\n",
    " \n",
    "#### Step 1 : Selecting a Dataset\n",
    " \n",
    "We need to choose a dataset that is publicly available for image annotation. Some popular choices include:\n",
    "\n",
    "<b>COCO (Common Objects in Context):</b> Contains images of complex everyday scenes with common objects in their natural contexts.\n",
    "\n",
    "<b>Pascal VOC:</b> Includes images from various object classes, including people, animals, and vehicles, with detailed annotations.\n",
    "\n",
    "\n",
    " For this project, I chose the Pascal VOC dataset, which includes a variety of objects such as people, cars, and animals. The dataset is commonly used in object detection tasks, making it a suitable choice for this project. The diversity of objects allows for the demonstration of various annotation challenges.\n",
    "\n",
    "\n",
    "#### Step 2 : Install and Set Up LabelImg\n",
    "\n",
    "LabelImg is a free, open-source software program for labeling images using graphs. The software was released by Tzutalin in 2015 and written in Python; using QT for its GI (graphical interface). LabelImg is a straightforward and basic tool to label a few hundred images to create a dataset for computer vision model training.\n",
    "\n",
    "\n",
    "\n"
   ]
  },
  {
   "cell_type": "code",
   "execution_count": 3,
   "metadata": {},
   "outputs": [
    {
     "name": "stdout",
     "output_type": "stream",
     "text": [
      "Requirement already satisfied: labelImg in /Users/vaishnavipullakhandam/anaconda3/lib/python3.10/site-packages (1.8.6)\n",
      "Requirement already satisfied: lxml in /Users/vaishnavipullakhandam/anaconda3/lib/python3.10/site-packages (from labelImg) (4.9.1)\n",
      "Requirement already satisfied: pyqt5 in /Users/vaishnavipullakhandam/anaconda3/lib/python3.10/site-packages (from labelImg) (5.15.11)\n",
      "Requirement already satisfied: PyQt5-sip<13,>=12.15 in /Users/vaishnavipullakhandam/anaconda3/lib/python3.10/site-packages (from pyqt5->labelImg) (12.17.0)\n",
      "Requirement already satisfied: PyQt5-Qt5<5.16.0,>=5.15.2 in /Users/vaishnavipullakhandam/anaconda3/lib/python3.10/site-packages (from pyqt5->labelImg) (5.15.16)\n"
     ]
    }
   ],
   "source": [
    "# Use the following commands to install LabelImg:\n",
    "! pip install labelImg\n"
   ]
  },
  {
   "cell_type": "code",
   "execution_count": 4,
   "metadata": {},
   "outputs": [
    {
     "ename": "NameError",
     "evalue": "name 'labelImg' is not defined",
     "output_type": "error",
     "traceback": [
      "\u001b[0;31m---------------------------------------------------------------------------\u001b[0m",
      "\u001b[0;31mNameError\u001b[0m                                 Traceback (most recent call last)",
      "Cell \u001b[0;32mIn[4], line 2\u001b[0m\n\u001b[1;32m      1\u001b[0m \u001b[39m# Launch the tool:\u001b[39;00m\n\u001b[0;32m----> 2\u001b[0m labelImg\n",
      "\u001b[0;31mNameError\u001b[0m: name 'labelImg' is not defined"
     ]
    }
   ],
   "source": [
    "# Launch the tool:\n",
    "labelImg\n"
   ]
  }
 ],
 "metadata": {
  "kernelspec": {
   "display_name": "Python 3",
   "language": "python",
   "name": "python3"
  },
  "language_info": {
   "codemirror_mode": {
    "name": "ipython",
    "version": 3
   },
   "file_extension": ".py",
   "mimetype": "text/x-python",
   "name": "python",
   "nbconvert_exporter": "python",
   "pygments_lexer": "ipython3",
   "version": "3.10.11"
  },
  "orig_nbformat": 4
 },
 "nbformat": 4,
 "nbformat_minor": 2
}
